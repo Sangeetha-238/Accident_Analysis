{
 "cells": [
  {
   "cell_type": "code",
   "execution_count": 103,
   "metadata": {},
   "outputs": [],
   "source": [
    "import pandas as pd\n",
    "import plotly.graph_objects as go"
   ]
  },
  {
   "cell_type": "code",
   "execution_count": 104,
   "metadata": {},
   "outputs": [],
   "source": [
    "train_df = pd.read_csv('../data/train_final.csv')"
   ]
  },
  {
   "cell_type": "code",
   "execution_count": 105,
   "metadata": {},
   "outputs": [],
   "source": [
    "#remove na values\n",
    "train_df = train_df.dropna()"
   ]
  },
  {
   "cell_type": "code",
   "execution_count": 106,
   "metadata": {},
   "outputs": [
    {
     "data": {
      "text/plain": [
       "Index(['DATE', 'TYPE', 'STATE', 'CAUSE', 'TITLE', 'CATEGORY', 'DESCRIPTION',\n",
       "       'CASKLDRR', 'CASINJRR', 'CARSDMG', 'CARSHZD', 'TEMP', 'VISIBLTY',\n",
       "       'WEATHER', 'TRNSPD', 'TONS', 'TYPEQ', 'TYPTRK', 'ACCDMG', 'NARR1',\n",
       "       'NARR2', 'NARR3', 'NARR4', 'NARR5', 'NARR6', 'NARR7', 'NARR8', 'NARR9',\n",
       "       'NARR10', 'NARR11', 'NARR12', 'NARR13', 'NARR14', 'NARR15', 'Latitude',\n",
       "       'Longitud'],\n",
       "      dtype='object')"
      ]
     },
     "execution_count": 106,
     "metadata": {},
     "output_type": "execute_result"
    }
   ],
   "source": [
    "train_df.columns"
   ]
  },
  {
   "cell_type": "code",
   "execution_count": 107,
   "metadata": {},
   "outputs": [],
   "source": [
    "#extract month and year from date\n",
    "train_df['month'] = pd.DatetimeIndex(train_df['DATE']).month\n",
    "train_df['year'] = pd.DatetimeIndex(train_df['DATE']).year"
   ]
  },
  {
   "cell_type": "code",
   "execution_count": 108,
   "metadata": {},
   "outputs": [
    {
     "data": {
      "text/plain": [
       "array(['Cloudy', 'Clear', 'Rain', 'Sleet', 'Snow', 'Fog'], dtype=object)"
      ]
     },
     "execution_count": 108,
     "metadata": {},
     "output_type": "execute_result"
    }
   ],
   "source": [
    "train_df['WEATHER'].unique()"
   ]
  },
  {
   "cell_type": "code",
   "execution_count": 109,
   "metadata": {},
   "outputs": [
    {
     "data": {
      "text/html": [
       "<div>\n",
       "<style scoped>\n",
       "    .dataframe tbody tr th:only-of-type {\n",
       "        vertical-align: middle;\n",
       "    }\n",
       "\n",
       "    .dataframe tbody tr th {\n",
       "        vertical-align: top;\n",
       "    }\n",
       "\n",
       "    .dataframe thead th {\n",
       "        text-align: right;\n",
       "    }\n",
       "</style>\n",
       "<table border=\"1\" class=\"dataframe\">\n",
       "  <thead>\n",
       "    <tr style=\"text-align: right;\">\n",
       "      <th></th>\n",
       "      <th>DATE</th>\n",
       "      <th>TYPE</th>\n",
       "      <th>STATE</th>\n",
       "      <th>CAUSE</th>\n",
       "      <th>TITLE</th>\n",
       "      <th>CATEGORY</th>\n",
       "      <th>DESCRIPTION</th>\n",
       "      <th>CASKLDRR</th>\n",
       "      <th>CASINJRR</th>\n",
       "      <th>CARSDMG</th>\n",
       "      <th>...</th>\n",
       "      <th>NARR10</th>\n",
       "      <th>NARR11</th>\n",
       "      <th>NARR12</th>\n",
       "      <th>NARR13</th>\n",
       "      <th>NARR14</th>\n",
       "      <th>NARR15</th>\n",
       "      <th>Latitude</th>\n",
       "      <th>Longitud</th>\n",
       "      <th>month</th>\n",
       "      <th>year</th>\n",
       "    </tr>\n",
       "  </thead>\n",
       "  <tbody>\n",
       "    <tr>\n",
       "      <th>6425</th>\n",
       "      <td>2011-04-06</td>\n",
       "      <td>Derailment</td>\n",
       "      <td>IN</td>\n",
       "      <td>T314</td>\n",
       "      <td>Rack, Roadbed and Structures</td>\n",
       "      <td>Frogs, Switches and Track Appliances</td>\n",
       "      <td>Switch point worn or broken</td>\n",
       "      <td>0</td>\n",
       "      <td>0</td>\n",
       "      <td>0</td>\n",
       "      <td>...</td>\n",
       "      <td>EAD TO 2S LEAD. THE CAUSE WAS DETERMINED TO BE...</td>\n",
       "      <td>IT HAD A EXISTING HORIZONTAL CRACK STARTING TW...</td>\n",
       "      <td>AS THE LOADED CARS WERE MOVING ACROSS IT. AS R...</td>\n",
       "      <td>TCH CROSSOVER 2S/14S AND SWITCH 18S SUSTAINED ...</td>\n",
       "      <td>TIES. THE RCO FOREMAN OBSERVED THE DERAILMENT ...</td>\n",
       "      <td>HELPER TO STOP THE MOVEMENT. THE DERAILED CARS...</td>\n",
       "      <td>0.000000</td>\n",
       "      <td>0.000000</td>\n",
       "      <td>4</td>\n",
       "      <td>2011</td>\n",
       "    </tr>\n",
       "    <tr>\n",
       "      <th>11212</th>\n",
       "      <td>2003-10-06</td>\n",
       "      <td>Other Impacts</td>\n",
       "      <td>MN</td>\n",
       "      <td>M599</td>\n",
       "      <td>Miscellaneous Causes Not Otherwise Listed</td>\n",
       "      <td>Other Miscellaneous</td>\n",
       "      <td>Other miscellaneous causes (Provide detailed d...</td>\n",
       "      <td>0</td>\n",
       "      <td>0</td>\n",
       "      <td>0</td>\n",
       "      <td>...</td>\n",
       "      <td>AD.  A TOTAL OF NINE CARS HAD BEEN PULLED BY T...</td>\n",
       "      <td>R THE ENGINE HAD BEEN BY THE 32 SWITCH SEVERAL...</td>\n",
       "      <td>ON 32 TRACK AT THE TIME OF IMPACT.  THE WEST C...</td>\n",
       "      <td>11110 A EMPTY BOXCAR AND DERAILED ONTO ITS SID...</td>\n",
       "      <td>AT 0030, THE HUMP HAD HUMPED 14 LOADS OF GRAIN...</td>\n",
       "      <td>HIN SECONDS OR MINUTES OF EACH OTHER, CAME OUT...</td>\n",
       "      <td>0.000000</td>\n",
       "      <td>0.000000</td>\n",
       "      <td>10</td>\n",
       "      <td>2003</td>\n",
       "    </tr>\n",
       "    <tr>\n",
       "      <th>11213</th>\n",
       "      <td>2003-10-06</td>\n",
       "      <td>Other Impacts</td>\n",
       "      <td>MN</td>\n",
       "      <td>M599</td>\n",
       "      <td>Miscellaneous Causes Not Otherwise Listed</td>\n",
       "      <td>Other Miscellaneous</td>\n",
       "      <td>Other miscellaneous causes (Provide detailed d...</td>\n",
       "      <td>0</td>\n",
       "      <td>0</td>\n",
       "      <td>0</td>\n",
       "      <td>...</td>\n",
       "      <td>AD.  A TOTAL OF NINE CARS HAD BEEN PULLED BY T...</td>\n",
       "      <td>R THE ENGINE HAD BEEN BY THE 32 SWITCH SEVERAL...</td>\n",
       "      <td>ON 32 TRACK AT THE TIME OF IMPACT.  THE WEST C...</td>\n",
       "      <td>11110 A EMPTY BOXCAR AND DERAILED ONTO ITS SID...</td>\n",
       "      <td>AT 0030, THE HUMP HAD HUMPED 14 LOADS OF GRAIN...</td>\n",
       "      <td>HIN SECONDS OR MINUTES OF EACH OTHER, CAME OUT...</td>\n",
       "      <td>0.000000</td>\n",
       "      <td>0.000000</td>\n",
       "      <td>10</td>\n",
       "      <td>2003</td>\n",
       "    </tr>\n",
       "    <tr>\n",
       "      <th>11390</th>\n",
       "      <td>2010-07-27</td>\n",
       "      <td>Derailment</td>\n",
       "      <td>WA</td>\n",
       "      <td>M599</td>\n",
       "      <td>Miscellaneous Causes Not Otherwise Listed</td>\n",
       "      <td>Other Miscellaneous</td>\n",
       "      <td>Other miscellaneous causes (Provide detailed d...</td>\n",
       "      <td>0</td>\n",
       "      <td>0</td>\n",
       "      <td>0</td>\n",
       "      <td>...</td>\n",
       "      <td>&amp; WHILE NO CONTRACTORS ARE PRESENT, THE DERAIL...</td>\n",
       "      <td>\\r\\nTHE DERAIL WAS PLACED FOR PROTECTION OF TH...</td>\n",
       "      <td>THE TRACKS DURING CONSTRUCTION OF A STREET OVE...</td>\n",
       "      <td>RAIL DURING THE TRAIN MOVEMENT.\\r\\nTHE MECHANI...</td>\n",
       "      <td>IF ONE OF THE PIECES TORN OFF THE RAILCAR OR I...</td>\n",
       "      <td>DERAIL.  MARKS ON THE DERAIL ITSELF CONFIRM SO...</td>\n",
       "      <td>0.000000</td>\n",
       "      <td>0.000000</td>\n",
       "      <td>7</td>\n",
       "      <td>2010</td>\n",
       "    </tr>\n",
       "    <tr>\n",
       "      <th>11432</th>\n",
       "      <td>2011-08-27</td>\n",
       "      <td>Derailment</td>\n",
       "      <td>WV</td>\n",
       "      <td>M599</td>\n",
       "      <td>Miscellaneous Causes Not Otherwise Listed</td>\n",
       "      <td>Other Miscellaneous</td>\n",
       "      <td>Other miscellaneous causes (Provide detailed d...</td>\n",
       "      <td>0</td>\n",
       "      <td>0</td>\n",
       "      <td>0</td>\n",
       "      <td>...</td>\n",
       "      <td>X FOREMAN HEARD WAS THE GRAPPLE TRUCK OPERATOR...</td>\n",
       "      <td>ICKING UP SPEED. CSX FOREMAN DOES NOT RECALL H...</td>\n",
       "      <td>PERVISOR WHO WAS ON THE RAIL 2 MILES AHEAD OF ...</td>\n",
       "      <td>E RAIL AT MP BAH-29.8. HE WATCHED THE PROGRESS...</td>\n",
       "      <td>30 FEET PAST THE CROSSING WHERE IT DERAILED AT...</td>\n",
       "      <td>E. BOTH PROGRESS RAIL EMPLOYEES HAD JUMPED OUT...</td>\n",
       "      <td>39.473384</td>\n",
       "      <td>-79.075912</td>\n",
       "      <td>8</td>\n",
       "      <td>2011</td>\n",
       "    </tr>\n",
       "  </tbody>\n",
       "</table>\n",
       "<p>5 rows × 38 columns</p>\n",
       "</div>"
      ],
      "text/plain": [
       "             DATE           TYPE STATE CAUSE  \\\n",
       "6425   2011-04-06     Derailment    IN  T314   \n",
       "11212  2003-10-06  Other Impacts    MN  M599   \n",
       "11213  2003-10-06  Other Impacts    MN  M599   \n",
       "11390  2010-07-27     Derailment    WA  M599   \n",
       "11432  2011-08-27     Derailment    WV  M599   \n",
       "\n",
       "                                           TITLE  \\\n",
       "6425                Rack, Roadbed and Structures   \n",
       "11212  Miscellaneous Causes Not Otherwise Listed   \n",
       "11213  Miscellaneous Causes Not Otherwise Listed   \n",
       "11390  Miscellaneous Causes Not Otherwise Listed   \n",
       "11432  Miscellaneous Causes Not Otherwise Listed   \n",
       "\n",
       "                                   CATEGORY  \\\n",
       "6425   Frogs, Switches and Track Appliances   \n",
       "11212                   Other Miscellaneous   \n",
       "11213                   Other Miscellaneous   \n",
       "11390                   Other Miscellaneous   \n",
       "11432                   Other Miscellaneous   \n",
       "\n",
       "                                             DESCRIPTION  CASKLDRR  CASINJRR  \\\n",
       "6425                        Switch point worn or broken          0         0   \n",
       "11212  Other miscellaneous causes (Provide detailed d...         0         0   \n",
       "11213  Other miscellaneous causes (Provide detailed d...         0         0   \n",
       "11390  Other miscellaneous causes (Provide detailed d...         0         0   \n",
       "11432  Other miscellaneous causes (Provide detailed d...         0         0   \n",
       "\n",
       "       CARSDMG  ...                                             NARR10  \\\n",
       "6425         0  ...  EAD TO 2S LEAD. THE CAUSE WAS DETERMINED TO BE...   \n",
       "11212        0  ...  AD.  A TOTAL OF NINE CARS HAD BEEN PULLED BY T...   \n",
       "11213        0  ...  AD.  A TOTAL OF NINE CARS HAD BEEN PULLED BY T...   \n",
       "11390        0  ...  & WHILE NO CONTRACTORS ARE PRESENT, THE DERAIL...   \n",
       "11432        0  ...  X FOREMAN HEARD WAS THE GRAPPLE TRUCK OPERATOR...   \n",
       "\n",
       "                                                  NARR11  \\\n",
       "6425   IT HAD A EXISTING HORIZONTAL CRACK STARTING TW...   \n",
       "11212  R THE ENGINE HAD BEEN BY THE 32 SWITCH SEVERAL...   \n",
       "11213  R THE ENGINE HAD BEEN BY THE 32 SWITCH SEVERAL...   \n",
       "11390  \\r\\nTHE DERAIL WAS PLACED FOR PROTECTION OF TH...   \n",
       "11432  ICKING UP SPEED. CSX FOREMAN DOES NOT RECALL H...   \n",
       "\n",
       "                                                  NARR12  \\\n",
       "6425   AS THE LOADED CARS WERE MOVING ACROSS IT. AS R...   \n",
       "11212  ON 32 TRACK AT THE TIME OF IMPACT.  THE WEST C...   \n",
       "11213  ON 32 TRACK AT THE TIME OF IMPACT.  THE WEST C...   \n",
       "11390  THE TRACKS DURING CONSTRUCTION OF A STREET OVE...   \n",
       "11432  PERVISOR WHO WAS ON THE RAIL 2 MILES AHEAD OF ...   \n",
       "\n",
       "                                                  NARR13  \\\n",
       "6425   TCH CROSSOVER 2S/14S AND SWITCH 18S SUSTAINED ...   \n",
       "11212  11110 A EMPTY BOXCAR AND DERAILED ONTO ITS SID...   \n",
       "11213  11110 A EMPTY BOXCAR AND DERAILED ONTO ITS SID...   \n",
       "11390  RAIL DURING THE TRAIN MOVEMENT.\\r\\nTHE MECHANI...   \n",
       "11432  E RAIL AT MP BAH-29.8. HE WATCHED THE PROGRESS...   \n",
       "\n",
       "                                                  NARR14  \\\n",
       "6425   TIES. THE RCO FOREMAN OBSERVED THE DERAILMENT ...   \n",
       "11212  AT 0030, THE HUMP HAD HUMPED 14 LOADS OF GRAIN...   \n",
       "11213  AT 0030, THE HUMP HAD HUMPED 14 LOADS OF GRAIN...   \n",
       "11390  IF ONE OF THE PIECES TORN OFF THE RAILCAR OR I...   \n",
       "11432  30 FEET PAST THE CROSSING WHERE IT DERAILED AT...   \n",
       "\n",
       "                                                  NARR15   Latitude  \\\n",
       "6425   HELPER TO STOP THE MOVEMENT. THE DERAILED CARS...   0.000000   \n",
       "11212  HIN SECONDS OR MINUTES OF EACH OTHER, CAME OUT...   0.000000   \n",
       "11213  HIN SECONDS OR MINUTES OF EACH OTHER, CAME OUT...   0.000000   \n",
       "11390  DERAIL.  MARKS ON THE DERAIL ITSELF CONFIRM SO...   0.000000   \n",
       "11432  E. BOTH PROGRESS RAIL EMPLOYEES HAD JUMPED OUT...  39.473384   \n",
       "\n",
       "        Longitud  month  year  \n",
       "6425    0.000000      4  2011  \n",
       "11212   0.000000     10  2003  \n",
       "11213   0.000000     10  2003  \n",
       "11390   0.000000      7  2010  \n",
       "11432 -79.075912      8  2011  \n",
       "\n",
       "[5 rows x 38 columns]"
      ]
     },
     "execution_count": 109,
     "metadata": {},
     "output_type": "execute_result"
    }
   ],
   "source": [
    "train_df.head()"
   ]
  },
  {
   "cell_type": "code",
   "execution_count": 118,
   "metadata": {},
   "outputs": [
    {
     "data": {
      "application/vnd.plotly.v1+json": {
       "config": {
        "plotlyServerURL": "https://plot.ly"
       },
       "data": [
        {
         "hovertemplate": "<b>%{hovertext}</b><br><br>WEATHER=Cloudy<br>DATE=%{x}<br>TEMP=%{y}<br>ACCDMG=%{marker.size}<extra></extra>",
         "hovertext": [
          "Switch point worn or broken ",
          "Other miscellaneous causes (Provide detailed description in narrative) ",
          "Other miscellaneous causes (Provide detailed description in narrative) ",
          "Other miscellaneous causes (Provide detailed description in narrative) ",
          "Other miscellaneous causes (Provide detailed description in narrative) ",
          "Broken Rail - Transverse/compound fissure  ",
          "Wide gage (due to defective or missing crossties) ",
          "Other Causes (Provide detailed description in narrative).",
          "Other causes (Provide detailed description in narrative) ",
          "Switch not latched or locked ",
          "Switch not latched or locked ",
          "Broken Rail - Head and web separation (within joint bar limits) ",
          "Other brake components damaged, worn, broken, or disconnected",
          "Other brake components damaged, worn, broken, or disconnected",
          "Broken Rail - Horizontal split head ",
          "Derail, failure to apply or remove ",
          "Vandalism of track or track appliances, e.g., objects  placed on track, switch thrown, etc.",
          "Failure to apply sufficient number of hand brakes on car(s) (railroad employee) ",
          "Buffing or slack action excessive, train handling ",
          "Roadbed settled or soft ",
          "Switch improperly lined ",
          "Switch improperly lined ",
          "Switch improperly lined ",
          "Switch improperly lined ",
          "Draft gear/mechanism broken or defective (including yoke) ",
          "Superelevation improper, excessive, or insufficient ",
          "Shoving movement, man on or at leading end of movement, failure to control",
          "Other frog, switch and track appliance defects (Provide detailed description in narrative)",
          "Other coupler and draft system defects, (CAR) (Provide detailed description in narrative) ",
          "Broken or bent axle between wheel seats ",
          "Failure to properly secure hand brake on car(s) (railroad  employee)",
          "Failure to properly secure hand brake on car(s) (railroad  employee)",
          "Shoving movement, absence of man on or at leading end of movement",
          "Shoving movement, absence of man on or at leading end of movement",
          "Shoving movement, absence of man on or at leading end of movement",
          "Other way and structure defect (Provide detailed description in narrative)",
          "Broken Rail - Weld (field) ",
          "Impairment of efficiency or judgment because of drugs or alcohol",
          "Impairment of efficiency or judgment because of drugs or alcohol",
          "Other signal failures (Provide detailed description in narrative) ",
          "Truck bolster stiff, improper swiveling",
          "Snow, ice, mud, gravel, coal, sand, etc. on track ",
          "Automatic hump retarder failed to sufficiently slow car due to foreign material on wheels of car being humped",
          "Automatic hump retarder failed to sufficiently slow car due to foreign material on wheels of car being humped",
          "Automatic hump retarder failed to sufficiently slow car due to foreign material on wheels of car being humped",
          "Buffing or slack action excessive, train make‑up ",
          "Buffing or slack action excessive, train make‑up ",
          "Failure to stretch cars before shoving ",
          "Cause under active investigation by reporting railroad  (Amended report will be forwarded when reporting railroad’s active investigation has been completed.) ",
          "Truck hunting ",
          "Human Factor - motive power and equipment",
          "Human Factor - motive power and equipment",
          "Investigation complete, cause could not be determined (When using this code, the narrative must include the reason(s) why the cause of the accident/incident could not be determined.)",
          "Investigation complete, cause could not be determined (When using this code, the narrative must include the reason(s) why the cause of the accident/incident could not be determined.)"
         ],
         "legendgroup": "Cloudy",
         "marker": {
          "color": "#636efa",
          "size": [
           27061,
           36685,
           36685,
           23207,
           23207,
           1713760,
           34604,
           82000,
           82000,
           19741,
           515195,
           1917500,
           201000,
           201000,
           155074,
           300000,
           279953,
           52987,
           133645,
           22500,
           12011,
           12011,
           13000,
           18269,
           16143,
           87542,
           20824,
           40000,
           2000000,
           7670196,
           30000,
           26000,
           13089,
           43382,
           43382,
           2575399,
           15059,
           9164,
           9164,
           105248,
           180257,
           21000,
           33019,
           33019,
           33019,
           56500,
           3416314,
           43000,
           315001,
           14579,
           9245,
           9245,
           38640,
           20894
          ],
          "sizemode": "area",
          "sizeref": 1198.468125,
          "symbol": "circle"
         },
         "mode": "markers",
         "name": "Cloudy",
         "orientation": "v",
         "showlegend": true,
         "type": "scatter",
         "x": [
          "2011-04-06",
          "2020-03-22",
          "2020-03-22",
          "2020-05-27",
          "2020-05-27",
          "2006-10-20",
          "2021-05-24",
          "2013-08-29",
          "2013-08-29",
          "2016-02-19",
          "2020-05-18",
          "2011-02-06",
          "2012-06-25",
          "2012-06-25",
          "2009-08-11",
          "2009-09-23",
          "2022-01-15",
          "2020-02-04",
          "2021-03-28",
          "2008-03-02",
          "2002-10-25",
          "2002-10-25",
          "2017-05-08",
          "2018-03-05",
          "2014-12-12",
          "2022-08-15",
          "2021-04-29",
          "2007-12-14",
          "2004-10-01",
          "2013-12-30",
          "2008-05-01",
          "2013-11-24",
          "2005-11-28",
          "2022-11-29",
          "2022-11-29",
          "2012-06-17",
          "2012-11-13",
          "2003-09-18",
          "2003-09-18",
          "2006-07-26",
          "2011-05-25",
          "2008-01-23",
          "2015-03-21",
          "2015-03-21",
          "2015-03-21",
          "2016-04-22",
          "2021-05-16",
          "2011-12-24",
          "2007-12-27",
          "2005-08-30",
          "2004-04-29",
          "2004-04-29",
          "2007-03-25",
          "2014-02-16"
         ],
         "xaxis": "x",
         "y": [
          50,
          69,
          69,
          66,
          66,
          48,
          69,
          70,
          70,
          55,
          59,
          25,
          70,
          70,
          90,
          85,
          59,
          28,
          55,
          38,
          42,
          42,
          60,
          34,
          27,
          88,
          62,
          22,
          65,
          -1,
          49,
          54,
          32,
          45,
          45,
          76,
          30,
          60,
          60,
          98,
          65,
          -1,
          70,
          70,
          70,
          55,
          73,
          15,
          40,
          78,
          45,
          45,
          53,
          60
         ],
         "yaxis": "y"
        },
        {
         "hovertemplate": "<b>%{hovertext}</b><br><br>WEATHER=Clear<br>DATE=%{x}<br>TEMP=%{y}<br>ACCDMG=%{marker.size}<extra></extra>",
         "hovertext": [
          "Other miscellaneous causes (Provide detailed description in narrative) ",
          "Other miscellaneous causes (Provide detailed description in narrative) ",
          "Other miscellaneous causes (Provide detailed description in narrative) ",
          "Other miscellaneous causes (Provide detailed description in narrative) ",
          "Other miscellaneous causes (Provide detailed description in narrative) ",
          "Other miscellaneous causes (Provide detailed description in narrative) ",
          "Other miscellaneous causes (Provide detailed description in narrative) ",
          "Wide gage (due to defective or missing crossties) ",
          "Wide gage (due to defective or missing crossties) ",
          "Wide gage (due to defective or missing crossties) ",
          "Wide gage (due to defective or missing crossties) ",
          "Wide gage (due to defective or missing crossties) ",
          "Wide gage (due to defective or missing crossties) ",
          "Broken Rail - Head and web separation (outside joint bar limits) ",
          "Broken Rail - Head and web separation (outside joint bar limits) ",
          "Broken Rail - Head and web separation (outside joint bar limits) ",
          "Interference (other than vandalism) with railroad operations by nonrailroad employee ",
          "Interference (other than vandalism) with railroad operations by nonrailroad employee ",
          "Cross level of track irregular (at joints) ",
          "Cross level of track irregular (at joints) ",
          "Cross level of track irregular (at joints) ",
          "Switch not latched or locked ",
          "Broken Rail - Vertical split head  ",
          "Broken Rail - Vertical split head  ",
          "Broken Rail - Vertical split head  ",
          "Switch damaged or out of adjustment ",
          "Switch damaged or out of adjustment ",
          "Track alignment irregular (other than buckled/sunkink) ",
          "Cross level of track irregular (not at joints)",
          "Use of brakes, other (Provide detailed description in narrative) ",
          "Use of brakes, other (Provide detailed description in narrative) ",
          "Knuckle broken or defective ",
          "Joint bar broken (compromise) ",
          "Derail, failure to apply or remove ",
          "Derail, failure to apply or remove ",
          "Derail, failure to apply or remove ",
          "Derail, failure to apply or remove ",
          "Vandalism of track or track appliances, e.g., objects  placed on track, switch thrown, etc.",
          "Vandalism of track or track appliances, e.g., objects  placed on track, switch thrown, etc.",
          "Electrically caused fire (LOCOMOTIVE) ",
          "Wide gage (due to defective or missing spikes or other rail fasteners) ",
          "Buffing or slack action excessive, train handling ",
          "Speed, other (Provide detailed description in narrative) ",
          "Switch improperly lined ",
          "Switch improperly lined ",
          "Switch improperly lined ",
          "Switch improperly lined ",
          "Switch improperly lined ",
          "Switch improperly lined ",
          "Switch improperly lined ",
          "Switch improperly lined ",
          "Switch improperly lined ",
          "Journal (roller bearing) failure from overheating ",
          "Journal (roller bearing) failure from overheating ",
          "Other wheel defects (CAR) (Provide detailed description in  narrative)",
          "Other wheel defects (CAR) (Provide detailed description in  narrative)",
          "Washout/rain/slide/flood/snow/ice damage to track ",
          "Broken rim ",
          "Superelevation improper, excessive, or insufficient ",
          "Shoving movement, man on or at leading end of movement, failure to control",
          "Other train operation/human factors (Provide detailed description in narrative)",
          "Other train operation/human factors (Provide detailed description in narrative)",
          "Automatic brake, other improper use (H004) ",
          "Dynamic brake, other improper use (H013)",
          "Coupler carrier broken or defective ",
          "Coupler carrier broken or defective ",
          "Improperly loaded car ",
          "Track alignment irregular (buckled/sunkink) ",
          "Other brake defects, cars (Provide detailed description in  narrative) ",
          "Failure to properly secure hand brake on car(s) (railroad  employee)",
          "Failure to properly secure hand brake on car(s) (railroad  employee)",
          "Failure to properly secure hand brake on car(s) (railroad  employee)",
          "Failure to properly secure hand brake on car(s) (railroad  employee)",
          "Shoving movement, absence of man on or at leading end of movement",
          "Shoving movement, absence of man on or at leading end of movement",
          "Shoving movement, absence of man on or at leading end of movement",
          "Shoving movement, absence of man on or at leading end of movement",
          "Shoving movement, absence of man on or at leading end of movement",
          "Shoving movement, absence of man on or at leading end of movement",
          "Shoving movement, absence of man on or at leading end of movement",
          "Shoving movement, absence of man on or at leading end of movement",
          "Shoving movement, absence of man on or at leading end of movement",
          "Shoving movement, absence of man on or at leading end of movement",
          "Instruction to train/yard crew improper ",
          "Wide gage (due to loose, broken, or defective gage rods) ",
          "Other mechanical and electrical failures, (LOCOMOTIVE) (Provide detailed description in narrative) ",
          "Flagging, improper or failure to flag ",
          "Skate, failure to remove or place ",
          "Broken brake pipe or connections ",
          "Incapacitation due to injury or illness ",
          "Broken or bent axle between wheel seats (LOCOMOTIVE)",
          "Switch previously run through ",
          "Switch previously run through ",
          "Switch previously run through ",
          "Switch previously run through ",
          "Switch previously run through ",
          "Truck bolster stiff, improper swiveling",
          "Interaction of lateral/vertical forces (includes harmonic rock off) ",
          "Interaction of lateral/vertical forces (includes harmonic rock off) ",
          "Hand brake (including gear) broken or defective ",
          "Other extreme environmental conditions (Provide detailed description in narrative) ",
          "Failure to apply hand brakes on car(s) (railroad employee)",
          "Independent (engine) brake, improper use (except actuation) (H023)",
          "Coupler mismatch, high/low (LOCOMOTIVE) ",
          "Employee asleep ",
          "Box car plug door open ",
          "Hand brake linkage/Connections broken/defective (LOCOMOTIVE)",
          "Fire, other than vandalism, involving on‑track equipment ",
          "Object or equipment on or fouling track (motor vehicle - other than highway-rail crossing) ",
          "Highway user inattentiveness ",
          "Highway user inattentiveness ",
          "Vandalism of on-track equipment, e.g., brakes released",
          "Vandalism of on-track equipment, e.g., brakes released",
          "Defective or missing crossties (use code T110 if results in wide gage)",
          "Other causes relating to train handling or makeup (Provide detailed description in narrative) ",
          "Other general switching rules (Provide detailed  description in narrative) ",
          "Other general switching rules (Provide detailed  description in narrative) ",
          "Failure to stretch cars before shoving ",
          "Highway user cited for violation of highway-rail grade crossing traffic laws",
          "Highway user cited for violation of highway-rail grade crossing traffic laws",
          "Highway user cited for violation of highway-rail grade crossing traffic laws",
          "Automatic brake, insufficient (H001) -- see note after cause H599",
          "Automatic brake, insufficient (H001) -- see note after cause H599",
          "Improper operation of train line air connections  (bottling the air) ",
          "Miscellaneous loading procedures (Provide detailed description in narrative) ",
          "Switch point gapped (between switch point and stock rail)",
          "Switch point gapped (between switch point and stock rail)",
          "Failure to comply with restricted speed in connection with the restrictive indication of a block or interlocking signal.",
          "Failure to comply with restricted speed in connection with the restrictive indication of a block or interlocking signal.",
          "Failure to comply with restricted speed in connection with the restrictive indication of a block or interlocking signal.",
          "Human Factor - track",
          "Failure to actuate off independent brake (H024) ",
          "Investigation complete, cause could not be determined (When using this code, the narrative must include the reason(s) why the cause of the accident/incident could not be determined.)",
          "Motor car or other on-track equipment rules (other than main track authority) - Failure to Comply.",
          "Motor car or other on-track equipment rules (other than main track authority) - Failure to Comply.",
          "Automatic block or interlocking signal displaying a stop indication - failure to comply.*",
          "Kicking or dropping cars, inadequate precautions ",
          "Kicking or dropping cars, inadequate precautions ",
          "Kicking or dropping cars, inadequate precautions ",
          "Kicking or dropping cars, inadequate precautions ",
          "Failure to comply with restricted speed or its equivalent not in connection with a block or interlocking signal.",
          "Track damage caused by non-railroad interference with track structure",
          "Oversized loads or Excess Height/Width cars, mis-routed or switched.",
          "Improperly loaded container/trailer on flat car "
         ],
         "legendgroup": "Clear",
         "marker": {
          "color": "#EF553B",
          "size": [
           12521,
           12521,
           10000,
           74000,
           84947,
           25763,
           45000,
           18423,
           15000,
           13500,
           16000,
           127767,
           291086,
           562419,
           139029,
           11000,
           18357,
           18357,
           18436,
           1625065,
           1625065,
           15050,
           103100,
           139492,
           34050,
           219993,
           219993,
           408206,
           72000,
           15934,
           101500,
           19834,
           138127,
           8726,
           8726,
           8726,
           117500,
           49276,
           28534,
           100000,
           13200,
           36960,
           15533,
           52804,
           52804,
           16000,
           16000,
           27772,
           24220,
           102551,
           102551,
           346000,
           103783,
           12058,
           27300,
           14000,
           544000,
           2431870,
           291500,
           42212,
           14632,
           14999,
           97578,
           86000,
           14714,
           63200,
           23796,
           64071,
           29373,
           50221,
           50221,
           442000,
           28350,
           38877,
           11500,
           140000,
           21728,
           21728,
           23980,
           15663,
           15663,
           15663,
           47158,
           108546,
           364018,
           730000,
           302441,
           41787,
           11275,
           30000,
           9016,
           36797,
           15515,
           26114,
           10700,
           70000,
           66000,
           340036,
           16512,
           9500,
           35000,
           40000,
           166683,
           89817,
           27585,
           16119,
           43223,
           197578,
           18056,
           115000,
           18601,
           50056,
           50056,
           12480,
           328000,
           200931,
           200931,
           87681,
           31354,
           16000,
           11097,
           134460,
           134460,
           17000,
           19245,
           38888,
           15000,
           15000,
           15000,
           13231,
           90700,
           23699,
           2699047,
           29000,
           29000,
           204687,
           19104,
           19104,
           38335,
           38335,
           98000,
           574240,
           98203,
           293320
          ],
          "sizemode": "area",
          "sizeref": 1198.468125,
          "symbol": "circle"
         },
         "mode": "markers",
         "name": "Clear",
         "orientation": "v",
         "showlegend": true,
         "type": "scatter",
         "x": [
          "2003-10-06",
          "2003-10-06",
          "2010-07-27",
          "2014-05-21",
          "2014-12-02",
          "2018-05-25",
          "2018-07-12",
          "2002-02-10",
          "2002-11-08",
          "2006-02-23",
          "2006-11-07",
          "2009-07-30",
          "2012-10-08",
          "2007-10-22",
          "2016-11-04",
          "2017-01-12",
          "2015-08-05",
          "2015-08-05",
          "2007-06-13",
          "2009-11-01",
          "2009-11-01",
          "2007-11-03",
          "2002-09-09",
          "2002-12-27",
          "2021-01-27",
          "2013-06-28",
          "2013-06-28",
          "2017-02-11",
          "2006-05-26",
          "2016-05-20",
          "2018-02-21",
          "2007-02-05",
          "2007-12-17",
          "2008-07-22",
          "2008-07-22",
          "2008-07-22",
          "2022-03-02",
          "2006-06-17",
          "2017-10-31",
          "2007-05-06",
          "2010-10-29",
          "2006-07-26",
          "2006-05-28",
          "2003-08-16",
          "2003-08-16",
          "2003-10-02",
          "2003-10-02",
          "2014-05-29",
          "2014-05-30",
          "2014-06-18",
          "2014-06-18",
          "2018-09-04",
          "2006-05-09",
          "2014-01-10",
          "2003-11-30",
          "2009-05-18",
          "2002-01-17",
          "2010-04-19",
          "2016-11-10",
          "2005-05-15",
          "2004-05-19",
          "2011-10-07",
          "2017-07-01",
          "2016-04-12",
          "2020-10-22",
          "2021-01-20",
          "2015-09-03",
          "2009-06-16",
          "2014-02-12",
          "2013-06-04",
          "2013-06-04",
          "2015-08-01",
          "2015-09-01",
          "2006-07-10",
          "2008-05-20",
          "2009-06-12",
          "2012-10-24",
          "2012-10-24",
          "2013-06-11",
          "2015-10-10",
          "2015-10-10",
          "2015-10-10",
          "2016-12-04",
          "2006-10-30",
          "2019-02-18",
          "2007-07-25",
          "2007-10-18",
          "2015-01-02",
          "2008-05-06",
          "2007-07-30",
          "2002-09-28",
          "2007-08-01",
          "2010-05-29",
          "2011-02-19",
          "2014-01-03",
          "2014-02-14",
          "2011-04-24",
          "2014-05-14",
          "2021-07-25",
          "2008-07-31",
          "2007-01-15",
          "2010-04-25",
          "2018-10-06",
          "2012-09-13",
          "2016-06-01",
          "2014-04-23",
          "2012-09-24",
          "2008-04-30",
          "2014-02-04",
          "2002-06-27",
          "2011-10-17",
          "2004-04-01",
          "2004-04-01",
          "2015-03-14",
          "2009-10-21",
          "2009-07-29",
          "2009-07-29",
          "2004-03-18",
          "2003-11-05",
          "2011-02-19",
          "2019-09-04",
          "2020-04-10",
          "2020-04-10",
          "2010-10-19",
          "2019-04-08",
          "2004-06-02",
          "2012-10-17",
          "2002-06-30",
          "2002-06-30",
          "2021-09-24",
          "2002-08-16",
          "2017-09-12",
          "2013-11-07",
          "2022-09-20",
          "2022-09-20",
          "2010-03-16",
          "2007-06-03",
          "2007-06-03",
          "2015-08-31",
          "2015-08-31",
          "2009-12-04",
          "2011-06-30",
          "2013-08-19",
          "2016-10-04"
         ],
         "xaxis": "x",
         "y": [
          40,
          40,
          80,
          70,
          25,
          91,
          92,
          35,
          80,
          45,
          65,
          90,
          52,
          70,
          54,
          60,
          85,
          85,
          80,
          50,
          50,
          36,
          87,
          32,
          61,
          85,
          85,
          77,
          50,
          53,
          65,
          12,
          34,
          80,
          80,
          80,
          70,
          75,
          30,
          60,
          75,
          70,
          70,
          80,
          80,
          75,
          75,
          78,
          90,
          86,
          86,
          88,
          69,
          20,
          65,
          61,
          30,
          45,
          43,
          73,
          55,
          43,
          83,
          56,
          70,
          15,
          90,
          95,
          20,
          60,
          60,
          82,
          80,
          80,
          70,
          58,
          81,
          81,
          75,
          66,
          66,
          66,
          45,
          50,
          60,
          76,
          85,
          32,
          71,
          80,
          55,
          72,
          70,
          38,
          -5,
          20,
          40,
          60,
          89,
          87,
          15,
          80,
          85,
          65,
          92,
          34,
          75,
          56,
          26,
          90,
          70,
          50,
          50,
          70,
          50,
          75,
          75,
          50,
          45,
          46,
          85,
          70,
          70,
          82,
          42,
          79,
          80,
          85,
          85,
          66,
          85,
          59,
          32,
          92,
          92,
          45,
          78,
          78,
          84,
          84,
          45,
          89,
          0,
          74
         ],
         "yaxis": "y"
        },
        {
         "hovertemplate": "<b>%{hovertext}</b><br><br>WEATHER=Rain<br>DATE=%{x}<br>TEMP=%{y}<br>ACCDMG=%{marker.size}<extra></extra>",
         "hovertext": [
          "Other miscellaneous causes (Provide detailed description in narrative) ",
          "Broken Rail - Transverse/compound fissure  ",
          "Wide gage (due to defective or missing crossties) ",
          "Journal (roller bearing) failure from overheating ",
          "Obstructed brake pipe (closed angle cock, ice, etc.)  (LOCOMOTIVE) ",
          "Extreme environmental condition ‑ EXTREME WIND VELOCITY ",
          "Improper placement of cars in train between terminals ",
          "Investigation complete, cause could not be determined (When using this code, the narrative must include the reason(s) why the cause of the accident/incident could not be determined.)"
         ],
         "legendgroup": "Rain",
         "marker": {
          "color": "#00cc96",
          "size": [
           108000,
           352000,
           16606,
           54910,
           256000,
           120343,
           354593,
           984228
          ],
          "sizemode": "area",
          "sizeref": 1198.468125,
          "symbol": "circle"
         },
         "mode": "markers",
         "name": "Rain",
         "orientation": "v",
         "showlegend": true,
         "type": "scatter",
         "x": [
          "2011-08-27",
          "2012-09-17",
          "2005-02-07",
          "2005-12-02",
          "2003-09-18",
          "2010-10-17",
          "2006-11-01",
          "2022-07-08"
         ],
         "xaxis": "x",
         "y": [
          72,
          89,
          55,
          40,
          70,
          64,
          60,
          90
         ],
         "yaxis": "y"
        },
        {
         "hovertemplate": "<b>%{hovertext}</b><br><br>WEATHER=Sleet<br>DATE=%{x}<br>TEMP=%{y}<br>ACCDMG=%{marker.size}<extra></extra>",
         "hovertext": [
          "Failure to properly secure engine(s) (railroad employee) "
         ],
         "legendgroup": "Sleet",
         "marker": {
          "color": "#ab63fa",
          "size": [
           25917
          ],
          "sizemode": "area",
          "sizeref": 1198.468125,
          "symbol": "circle"
         },
         "mode": "markers",
         "name": "Sleet",
         "orientation": "v",
         "showlegend": true,
         "type": "scatter",
         "x": [
          "2010-02-26"
         ],
         "xaxis": "x",
         "y": [
          30
         ],
         "yaxis": "y"
        },
        {
         "hovertemplate": "<b>%{hovertext}</b><br><br>WEATHER=Snow<br>DATE=%{x}<br>TEMP=%{y}<br>ACCDMG=%{marker.size}<extra></extra>",
         "hovertext": [
          "Broken Rail - Vertical split head  ",
          "Use of brakes, other (Provide detailed description in narrative) ",
          "Cars left foul ",
          "Broken or defective tiedown equipment ",
          "Other extreme environmental conditions (Provide detailed description in narrative) ",
          "Other causes relating to train handling or makeup (Provide detailed description in narrative) "
         ],
         "legendgroup": "Snow",
         "marker": {
          "color": "#FFA15A",
          "size": [
           3071077,
           127742,
           16194,
           64700,
           450000,
           14986
          ],
          "sizemode": "area",
          "sizeref": 1198.468125,
          "symbol": "circle"
         },
         "mode": "markers",
         "name": "Snow",
         "orientation": "v",
         "showlegend": true,
         "type": "scatter",
         "x": [
          "2015-02-16",
          "2003-01-17",
          "2019-02-20",
          "2007-11-18",
          "2009-03-25",
          "2017-03-14"
         ],
         "xaxis": "x",
         "y": [
          18,
          22,
          30,
          32,
          27,
          28
         ],
         "yaxis": "y"
        },
        {
         "hovertemplate": "<b>%{hovertext}</b><br><br>WEATHER=Fog<br>DATE=%{x}<br>TEMP=%{y}<br>ACCDMG=%{marker.size}<extra></extra>",
         "hovertext": [
          "Shoving movement, absence of man on or at leading end of movement"
         ],
         "legendgroup": "Fog",
         "marker": {
          "color": "#19d3f3",
          "size": [
           58707
          ],
          "sizemode": "area",
          "sizeref": 1198.468125,
          "symbol": "circle"
         },
         "mode": "markers",
         "name": "Fog",
         "orientation": "v",
         "showlegend": true,
         "type": "scatter",
         "x": [
          "2006-09-17"
         ],
         "xaxis": "x",
         "y": [
          45
         ],
         "yaxis": "y"
        }
       ],
       "layout": {
        "legend": {
         "itemsizing": "constant",
         "title": {
          "text": "WEATHER"
         },
         "tracegroupgap": 0
        },
        "margin": {
         "t": 60
        },
        "template": {
         "data": {
          "bar": [
           {
            "error_x": {
             "color": "#2a3f5f"
            },
            "error_y": {
             "color": "#2a3f5f"
            },
            "marker": {
             "line": {
              "color": "#E5ECF6",
              "width": 0.5
             },
             "pattern": {
              "fillmode": "overlay",
              "size": 10,
              "solidity": 0.2
             }
            },
            "type": "bar"
           }
          ],
          "barpolar": [
           {
            "marker": {
             "line": {
              "color": "#E5ECF6",
              "width": 0.5
             },
             "pattern": {
              "fillmode": "overlay",
              "size": 10,
              "solidity": 0.2
             }
            },
            "type": "barpolar"
           }
          ],
          "carpet": [
           {
            "aaxis": {
             "endlinecolor": "#2a3f5f",
             "gridcolor": "white",
             "linecolor": "white",
             "minorgridcolor": "white",
             "startlinecolor": "#2a3f5f"
            },
            "baxis": {
             "endlinecolor": "#2a3f5f",
             "gridcolor": "white",
             "linecolor": "white",
             "minorgridcolor": "white",
             "startlinecolor": "#2a3f5f"
            },
            "type": "carpet"
           }
          ],
          "choropleth": [
           {
            "colorbar": {
             "outlinewidth": 0,
             "ticks": ""
            },
            "type": "choropleth"
           }
          ],
          "contour": [
           {
            "colorbar": {
             "outlinewidth": 0,
             "ticks": ""
            },
            "colorscale": [
             [
              0,
              "#0d0887"
             ],
             [
              0.1111111111111111,
              "#46039f"
             ],
             [
              0.2222222222222222,
              "#7201a8"
             ],
             [
              0.3333333333333333,
              "#9c179e"
             ],
             [
              0.4444444444444444,
              "#bd3786"
             ],
             [
              0.5555555555555556,
              "#d8576b"
             ],
             [
              0.6666666666666666,
              "#ed7953"
             ],
             [
              0.7777777777777778,
              "#fb9f3a"
             ],
             [
              0.8888888888888888,
              "#fdca26"
             ],
             [
              1,
              "#f0f921"
             ]
            ],
            "type": "contour"
           }
          ],
          "contourcarpet": [
           {
            "colorbar": {
             "outlinewidth": 0,
             "ticks": ""
            },
            "type": "contourcarpet"
           }
          ],
          "heatmap": [
           {
            "colorbar": {
             "outlinewidth": 0,
             "ticks": ""
            },
            "colorscale": [
             [
              0,
              "#0d0887"
             ],
             [
              0.1111111111111111,
              "#46039f"
             ],
             [
              0.2222222222222222,
              "#7201a8"
             ],
             [
              0.3333333333333333,
              "#9c179e"
             ],
             [
              0.4444444444444444,
              "#bd3786"
             ],
             [
              0.5555555555555556,
              "#d8576b"
             ],
             [
              0.6666666666666666,
              "#ed7953"
             ],
             [
              0.7777777777777778,
              "#fb9f3a"
             ],
             [
              0.8888888888888888,
              "#fdca26"
             ],
             [
              1,
              "#f0f921"
             ]
            ],
            "type": "heatmap"
           }
          ],
          "heatmapgl": [
           {
            "colorbar": {
             "outlinewidth": 0,
             "ticks": ""
            },
            "colorscale": [
             [
              0,
              "#0d0887"
             ],
             [
              0.1111111111111111,
              "#46039f"
             ],
             [
              0.2222222222222222,
              "#7201a8"
             ],
             [
              0.3333333333333333,
              "#9c179e"
             ],
             [
              0.4444444444444444,
              "#bd3786"
             ],
             [
              0.5555555555555556,
              "#d8576b"
             ],
             [
              0.6666666666666666,
              "#ed7953"
             ],
             [
              0.7777777777777778,
              "#fb9f3a"
             ],
             [
              0.8888888888888888,
              "#fdca26"
             ],
             [
              1,
              "#f0f921"
             ]
            ],
            "type": "heatmapgl"
           }
          ],
          "histogram": [
           {
            "marker": {
             "pattern": {
              "fillmode": "overlay",
              "size": 10,
              "solidity": 0.2
             }
            },
            "type": "histogram"
           }
          ],
          "histogram2d": [
           {
            "colorbar": {
             "outlinewidth": 0,
             "ticks": ""
            },
            "colorscale": [
             [
              0,
              "#0d0887"
             ],
             [
              0.1111111111111111,
              "#46039f"
             ],
             [
              0.2222222222222222,
              "#7201a8"
             ],
             [
              0.3333333333333333,
              "#9c179e"
             ],
             [
              0.4444444444444444,
              "#bd3786"
             ],
             [
              0.5555555555555556,
              "#d8576b"
             ],
             [
              0.6666666666666666,
              "#ed7953"
             ],
             [
              0.7777777777777778,
              "#fb9f3a"
             ],
             [
              0.8888888888888888,
              "#fdca26"
             ],
             [
              1,
              "#f0f921"
             ]
            ],
            "type": "histogram2d"
           }
          ],
          "histogram2dcontour": [
           {
            "colorbar": {
             "outlinewidth": 0,
             "ticks": ""
            },
            "colorscale": [
             [
              0,
              "#0d0887"
             ],
             [
              0.1111111111111111,
              "#46039f"
             ],
             [
              0.2222222222222222,
              "#7201a8"
             ],
             [
              0.3333333333333333,
              "#9c179e"
             ],
             [
              0.4444444444444444,
              "#bd3786"
             ],
             [
              0.5555555555555556,
              "#d8576b"
             ],
             [
              0.6666666666666666,
              "#ed7953"
             ],
             [
              0.7777777777777778,
              "#fb9f3a"
             ],
             [
              0.8888888888888888,
              "#fdca26"
             ],
             [
              1,
              "#f0f921"
             ]
            ],
            "type": "histogram2dcontour"
           }
          ],
          "mesh3d": [
           {
            "colorbar": {
             "outlinewidth": 0,
             "ticks": ""
            },
            "type": "mesh3d"
           }
          ],
          "parcoords": [
           {
            "line": {
             "colorbar": {
              "outlinewidth": 0,
              "ticks": ""
             }
            },
            "type": "parcoords"
           }
          ],
          "pie": [
           {
            "automargin": true,
            "type": "pie"
           }
          ],
          "scatter": [
           {
            "fillpattern": {
             "fillmode": "overlay",
             "size": 10,
             "solidity": 0.2
            },
            "type": "scatter"
           }
          ],
          "scatter3d": [
           {
            "line": {
             "colorbar": {
              "outlinewidth": 0,
              "ticks": ""
             }
            },
            "marker": {
             "colorbar": {
              "outlinewidth": 0,
              "ticks": ""
             }
            },
            "type": "scatter3d"
           }
          ],
          "scattercarpet": [
           {
            "marker": {
             "colorbar": {
              "outlinewidth": 0,
              "ticks": ""
             }
            },
            "type": "scattercarpet"
           }
          ],
          "scattergeo": [
           {
            "marker": {
             "colorbar": {
              "outlinewidth": 0,
              "ticks": ""
             }
            },
            "type": "scattergeo"
           }
          ],
          "scattergl": [
           {
            "marker": {
             "colorbar": {
              "outlinewidth": 0,
              "ticks": ""
             }
            },
            "type": "scattergl"
           }
          ],
          "scattermapbox": [
           {
            "marker": {
             "colorbar": {
              "outlinewidth": 0,
              "ticks": ""
             }
            },
            "type": "scattermapbox"
           }
          ],
          "scatterpolar": [
           {
            "marker": {
             "colorbar": {
              "outlinewidth": 0,
              "ticks": ""
             }
            },
            "type": "scatterpolar"
           }
          ],
          "scatterpolargl": [
           {
            "marker": {
             "colorbar": {
              "outlinewidth": 0,
              "ticks": ""
             }
            },
            "type": "scatterpolargl"
           }
          ],
          "scatterternary": [
           {
            "marker": {
             "colorbar": {
              "outlinewidth": 0,
              "ticks": ""
             }
            },
            "type": "scatterternary"
           }
          ],
          "surface": [
           {
            "colorbar": {
             "outlinewidth": 0,
             "ticks": ""
            },
            "colorscale": [
             [
              0,
              "#0d0887"
             ],
             [
              0.1111111111111111,
              "#46039f"
             ],
             [
              0.2222222222222222,
              "#7201a8"
             ],
             [
              0.3333333333333333,
              "#9c179e"
             ],
             [
              0.4444444444444444,
              "#bd3786"
             ],
             [
              0.5555555555555556,
              "#d8576b"
             ],
             [
              0.6666666666666666,
              "#ed7953"
             ],
             [
              0.7777777777777778,
              "#fb9f3a"
             ],
             [
              0.8888888888888888,
              "#fdca26"
             ],
             [
              1,
              "#f0f921"
             ]
            ],
            "type": "surface"
           }
          ],
          "table": [
           {
            "cells": {
             "fill": {
              "color": "#EBF0F8"
             },
             "line": {
              "color": "white"
             }
            },
            "header": {
             "fill": {
              "color": "#C8D4E3"
             },
             "line": {
              "color": "white"
             }
            },
            "type": "table"
           }
          ]
         },
         "layout": {
          "annotationdefaults": {
           "arrowcolor": "#2a3f5f",
           "arrowhead": 0,
           "arrowwidth": 1
          },
          "autotypenumbers": "strict",
          "coloraxis": {
           "colorbar": {
            "outlinewidth": 0,
            "ticks": ""
           }
          },
          "colorscale": {
           "diverging": [
            [
             0,
             "#8e0152"
            ],
            [
             0.1,
             "#c51b7d"
            ],
            [
             0.2,
             "#de77ae"
            ],
            [
             0.3,
             "#f1b6da"
            ],
            [
             0.4,
             "#fde0ef"
            ],
            [
             0.5,
             "#f7f7f7"
            ],
            [
             0.6,
             "#e6f5d0"
            ],
            [
             0.7,
             "#b8e186"
            ],
            [
             0.8,
             "#7fbc41"
            ],
            [
             0.9,
             "#4d9221"
            ],
            [
             1,
             "#276419"
            ]
           ],
           "sequential": [
            [
             0,
             "#0d0887"
            ],
            [
             0.1111111111111111,
             "#46039f"
            ],
            [
             0.2222222222222222,
             "#7201a8"
            ],
            [
             0.3333333333333333,
             "#9c179e"
            ],
            [
             0.4444444444444444,
             "#bd3786"
            ],
            [
             0.5555555555555556,
             "#d8576b"
            ],
            [
             0.6666666666666666,
             "#ed7953"
            ],
            [
             0.7777777777777778,
             "#fb9f3a"
            ],
            [
             0.8888888888888888,
             "#fdca26"
            ],
            [
             1,
             "#f0f921"
            ]
           ],
           "sequentialminus": [
            [
             0,
             "#0d0887"
            ],
            [
             0.1111111111111111,
             "#46039f"
            ],
            [
             0.2222222222222222,
             "#7201a8"
            ],
            [
             0.3333333333333333,
             "#9c179e"
            ],
            [
             0.4444444444444444,
             "#bd3786"
            ],
            [
             0.5555555555555556,
             "#d8576b"
            ],
            [
             0.6666666666666666,
             "#ed7953"
            ],
            [
             0.7777777777777778,
             "#fb9f3a"
            ],
            [
             0.8888888888888888,
             "#fdca26"
            ],
            [
             1,
             "#f0f921"
            ]
           ]
          },
          "colorway": [
           "#636efa",
           "#EF553B",
           "#00cc96",
           "#ab63fa",
           "#FFA15A",
           "#19d3f3",
           "#FF6692",
           "#B6E880",
           "#FF97FF",
           "#FECB52"
          ],
          "font": {
           "color": "#2a3f5f"
          },
          "geo": {
           "bgcolor": "white",
           "lakecolor": "white",
           "landcolor": "#E5ECF6",
           "showlakes": true,
           "showland": true,
           "subunitcolor": "white"
          },
          "hoverlabel": {
           "align": "left"
          },
          "hovermode": "closest",
          "mapbox": {
           "style": "light"
          },
          "paper_bgcolor": "white",
          "plot_bgcolor": "#E5ECF6",
          "polar": {
           "angularaxis": {
            "gridcolor": "white",
            "linecolor": "white",
            "ticks": ""
           },
           "bgcolor": "#E5ECF6",
           "radialaxis": {
            "gridcolor": "white",
            "linecolor": "white",
            "ticks": ""
           }
          },
          "scene": {
           "xaxis": {
            "backgroundcolor": "#E5ECF6",
            "gridcolor": "white",
            "gridwidth": 2,
            "linecolor": "white",
            "showbackground": true,
            "ticks": "",
            "zerolinecolor": "white"
           },
           "yaxis": {
            "backgroundcolor": "#E5ECF6",
            "gridcolor": "white",
            "gridwidth": 2,
            "linecolor": "white",
            "showbackground": true,
            "ticks": "",
            "zerolinecolor": "white"
           },
           "zaxis": {
            "backgroundcolor": "#E5ECF6",
            "gridcolor": "white",
            "gridwidth": 2,
            "linecolor": "white",
            "showbackground": true,
            "ticks": "",
            "zerolinecolor": "white"
           }
          },
          "shapedefaults": {
           "line": {
            "color": "#2a3f5f"
           }
          },
          "ternary": {
           "aaxis": {
            "gridcolor": "white",
            "linecolor": "white",
            "ticks": ""
           },
           "baxis": {
            "gridcolor": "white",
            "linecolor": "white",
            "ticks": ""
           },
           "bgcolor": "#E5ECF6",
           "caxis": {
            "gridcolor": "white",
            "linecolor": "white",
            "ticks": ""
           }
          },
          "title": {
           "x": 0.05
          },
          "xaxis": {
           "automargin": true,
           "gridcolor": "white",
           "linecolor": "white",
           "ticks": "",
           "title": {
            "standoff": 15
           },
           "zerolinecolor": "white",
           "zerolinewidth": 2
          },
          "yaxis": {
           "automargin": true,
           "gridcolor": "white",
           "linecolor": "white",
           "ticks": "",
           "title": {
            "standoff": 15
           },
           "zerolinecolor": "white",
           "zerolinewidth": 2
          }
         }
        },
        "title": {
         "text": "Weather Conditions and Temperature effect on Accidents"
        },
        "xaxis": {
         "anchor": "y",
         "domain": [
          0,
          1
         ],
         "title": {
          "text": "Date"
         }
        },
        "yaxis": {
         "anchor": "x",
         "domain": [
          0,
          1
         ],
         "title": {
          "text": "Temperature (°F)"
         }
        }
       }
      }
     },
     "metadata": {},
     "output_type": "display_data"
    }
   ],
   "source": [
    "import plotly.express as px\n",
    "\n",
    "fig = px.scatter(train_df, x=\"DATE\", y=\"TEMP\", size=\"ACCDMG\", color=\"WEATHER\", \n",
    "                 hover_name=\"DESCRIPTION\", size_max=80, \n",
    "                 color_continuous_scale='Bluered_r')\n",
    "\n",
    "fig.update_layout(title=\"Weather Conditions and Temperature effect on Accidents\",\n",
    "                  xaxis_title=\"Date\",\n",
    "                  yaxis_title=\"Temperature (°F)\")\n",
    "\n",
    "fig.show()"
   ]
  },
  {
   "cell_type": "code",
   "execution_count": 120,
   "metadata": {},
   "outputs": [],
   "source": [
    "states = {\n",
    "    'AL': 'Alabama',\n",
    "    'AK': 'Alaska',\n",
    "    'AZ': 'Arizona',\n",
    "    'AR': 'Arkansas',\n",
    "    'CA': 'California',\n",
    "    'CO': 'Colorado',\n",
    "    'CT': 'Connecticut',\n",
    "    'DE': 'Delaware',\n",
    "    'FL': 'Florida',\n",
    "    'GA': 'Georgia',\n",
    "    'HI': 'Hawaii',\n",
    "    'ID': 'Idaho',\n",
    "    'IL': 'Illinois',\n",
    "    'IN': 'Indiana',\n",
    "    'IA': 'Iowa',\n",
    "    'KS': 'Kansas',\n",
    "    'KY': 'Kentucky',\n",
    "    'LA': 'Louisiana',\n",
    "    'ME': 'Maine',\n",
    "    'MD': 'Maryland',\n",
    "    'MA': 'Massachusetts',\n",
    "    'MI': 'Michigan',\n",
    "    'MN': 'Minnesota',\n",
    "    'MS': 'Mississippi',\n",
    "    'MO': 'Missouri',\n",
    "    'MT': 'Montana',\n",
    "    'NE': 'Nebraska',\n",
    "    'NV': 'Nevada',\n",
    "    'NH': 'New Hampshire',\n",
    "    'NJ': 'New Jersey',\n",
    "    'NM': 'New Mexico',\n",
    "    'NY': 'New York',\n",
    "    'NC': 'North Carolina',\n",
    "    'ND': 'North Dakota',\n",
    "    'OH': 'Ohio',\n",
    "    'OK': 'Oklahoma',\n",
    "    'OR': 'Oregon',\n",
    "    'PA': 'Pennsylvania',\n",
    "    'RI': 'Rhode Island',\n",
    "    'SC': 'South Carolina',\n",
    "    'SD': 'South Dakota',\n",
    "    'TN': 'Tennessee',\n",
    "    'TX': 'Texas',\n",
    "    'UT': 'Utah',\n",
    "    'VT': 'Vermont',\n",
    "    'VA': 'Virginia',\n",
    "    'WA': 'Washington',\n",
    "    'WV': 'West Virginia',\n",
    "    'WI': 'Wisconsin',\n",
    "    'WY': 'Wyoming'\n",
    "}\n",
    "\n",
    "train_df['STATE'] = train_df['STATE'].map(states)"
   ]
  },
  {
   "cell_type": "code",
   "execution_count": 133,
   "metadata": {},
   "outputs": [
    {
     "name": "stderr",
     "output_type": "stream",
     "text": [
      "/Users/sangeetha/opt/anaconda3/envs/anly503/lib/python3.10/site-packages/plotly/express/_core.py:271: FutureWarning:\n",
      "\n",
      "The frame.append method is deprecated and will be removed from pandas in a future version. Use pandas.concat instead.\n",
      "\n"
     ]
    },
    {
     "data": {
      "application/vnd.plotly.v1+json": {
       "config": {
        "plotlyServerURL": "https://plot.ly"
       },
       "data": [
        {
         "hovertemplate": "ACCDMG=%{r}<br>STATE=%{theta}<extra></extra>",
         "legendgroup": "",
         "line": {
          "color": "#636efa",
          "dash": "solid"
         },
         "marker": {
          "symbol": "circle"
         },
         "mode": "lines",
         "name": "",
         "r": [
          27061,
          12521,
          12521,
          10000,
          74000,
          84947,
          25763,
          36685,
          36685,
          23207,
          23207,
          352000,
          25917,
          18423,
          15000,
          16606,
          82000,
          82000,
          1625065,
          1625065,
          515195,
          103100,
          139492,
          219993,
          219993,
          72000,
          127742,
          101500,
          19834,
          138127,
          201000,
          201000,
          300000,
          117500,
          49276,
          100000,
          15533,
          22500,
          12011,
          12011,
          52804,
          52804,
          16000,
          16000,
          24220,
          102551,
          102551,
          13000,
          18269,
          346000,
          54910,
          12058,
          27300,
          14000,
          16143,
          87542,
          42212,
          20824,
          14632,
          14999,
          14714,
          63200,
          23796,
          30000,
          50221,
          50221,
          26000,
          442000,
          13089,
          38877,
          21728,
          21728,
          23980,
          15663,
          15663,
          15663,
          43382,
          43382,
          108546,
          2575399,
          364018,
          730000,
          41787,
          64700,
          9164,
          9164,
          11275,
          30000,
          9016,
          26114,
          10700,
          70000,
          66000,
          180257,
          340036,
          16512,
          21000,
          40000,
          89817,
          16119,
          43223,
          197578,
          18056,
          56500,
          115000,
          120343,
          50056,
          50056,
          12480,
          328000,
          14986,
          200931,
          200931,
          31354,
          16000,
          134460,
          134460,
          17000,
          38888,
          15000,
          9245,
          9245,
          354593,
          15000,
          15000,
          90700,
          23699,
          38640,
          20894,
          19104,
          19104,
          98000,
          98203,
          293320,
          27061
         ],
         "showlegend": false,
         "subplot": "polar",
         "theta": [
          "Indiana",
          "Minnesota",
          "Minnesota",
          "Washington",
          "Washington",
          "Illinois",
          "Texas",
          "Texas",
          "Texas",
          "Louisiana",
          "Louisiana",
          "Louisiana",
          "Maine",
          "Wisconsin",
          "Texas",
          "Texas",
          "Maine",
          "Maine",
          "Illinois",
          "Illinois",
          "New York",
          "New York",
          "New York",
          "Texas",
          "Texas",
          "New York",
          "New Jersey",
          "Texas",
          "Indiana",
          "Washington",
          "Maine",
          "Maine",
          "Texas",
          "Texas",
          "Wisconsin",
          "New Jersey",
          "Illinois",
          "Washington",
          "Wisconsin",
          "Wisconsin",
          "Minnesota",
          "Minnesota",
          "Washington",
          "Washington",
          "Texas",
          "Louisiana",
          "Louisiana",
          "Indiana",
          "New York",
          "Texas",
          "Maine",
          "New York",
          "Texas",
          "Maine",
          "Indiana",
          "Texas",
          "New Jersey",
          "Illinois",
          "Minnesota",
          "Indiana",
          "Illinois",
          "Indiana",
          "Indiana",
          "New Jersey",
          "Washington",
          "Washington",
          "Texas",
          "Texas",
          "Indiana",
          "Texas",
          "Louisiana",
          "Louisiana",
          "Louisiana",
          "Louisiana",
          "Louisiana",
          "Louisiana",
          "New York",
          "New York",
          "New Jersey",
          "Texas",
          "Texas",
          "New Jersey",
          "Indiana",
          "New Jersey",
          "Minnesota",
          "Minnesota",
          "Maine",
          "New Jersey",
          "Wisconsin",
          "Illinois",
          "Indiana",
          "Illinois",
          "Maine",
          "New York",
          "New York",
          "Louisiana",
          "Washington",
          "Texas",
          "Illinois",
          "New York",
          "Texas",
          "New York",
          "Washington",
          "Washington",
          "New Jersey",
          "New Jersey",
          "Minnesota",
          "Minnesota",
          "Texas",
          "New York",
          "Indiana",
          "Illinois",
          "Illinois",
          "Wisconsin",
          "New Jersey",
          "Louisiana",
          "Louisiana",
          "Texas",
          "Texas",
          "Texas",
          "Minnesota",
          "Minnesota",
          "Washington",
          "Wisconsin",
          "Wisconsin",
          "Wisconsin",
          "Texas",
          "New Jersey",
          "Texas",
          "Minnesota",
          "Minnesota",
          "New Jersey",
          "New York",
          "New Jersey",
          "Indiana"
         ],
         "type": "scatterpolar"
        }
       ],
       "layout": {
        "font": {
         "family": "Arial"
        },
        "legend": {
         "tracegroupgap": 0
        },
        "margin": {
         "t": 60
        },
        "polar": {
         "angularaxis": {
          "direction": "clockwise",
          "rotation": 90
         },
         "domain": {
          "x": [
           0,
           1
          ],
          "y": [
           0,
           1
          ]
         }
        },
        "template": {
         "data": {
          "bar": [
           {
            "error_x": {
             "color": "#2a3f5f"
            },
            "error_y": {
             "color": "#2a3f5f"
            },
            "marker": {
             "line": {
              "color": "#E5ECF6",
              "width": 0.5
             },
             "pattern": {
              "fillmode": "overlay",
              "size": 10,
              "solidity": 0.2
             }
            },
            "type": "bar"
           }
          ],
          "barpolar": [
           {
            "marker": {
             "line": {
              "color": "#E5ECF6",
              "width": 0.5
             },
             "pattern": {
              "fillmode": "overlay",
              "size": 10,
              "solidity": 0.2
             }
            },
            "type": "barpolar"
           }
          ],
          "carpet": [
           {
            "aaxis": {
             "endlinecolor": "#2a3f5f",
             "gridcolor": "white",
             "linecolor": "white",
             "minorgridcolor": "white",
             "startlinecolor": "#2a3f5f"
            },
            "baxis": {
             "endlinecolor": "#2a3f5f",
             "gridcolor": "white",
             "linecolor": "white",
             "minorgridcolor": "white",
             "startlinecolor": "#2a3f5f"
            },
            "type": "carpet"
           }
          ],
          "choropleth": [
           {
            "colorbar": {
             "outlinewidth": 0,
             "ticks": ""
            },
            "type": "choropleth"
           }
          ],
          "contour": [
           {
            "colorbar": {
             "outlinewidth": 0,
             "ticks": ""
            },
            "colorscale": [
             [
              0,
              "#0d0887"
             ],
             [
              0.1111111111111111,
              "#46039f"
             ],
             [
              0.2222222222222222,
              "#7201a8"
             ],
             [
              0.3333333333333333,
              "#9c179e"
             ],
             [
              0.4444444444444444,
              "#bd3786"
             ],
             [
              0.5555555555555556,
              "#d8576b"
             ],
             [
              0.6666666666666666,
              "#ed7953"
             ],
             [
              0.7777777777777778,
              "#fb9f3a"
             ],
             [
              0.8888888888888888,
              "#fdca26"
             ],
             [
              1,
              "#f0f921"
             ]
            ],
            "type": "contour"
           }
          ],
          "contourcarpet": [
           {
            "colorbar": {
             "outlinewidth": 0,
             "ticks": ""
            },
            "type": "contourcarpet"
           }
          ],
          "heatmap": [
           {
            "colorbar": {
             "outlinewidth": 0,
             "ticks": ""
            },
            "colorscale": [
             [
              0,
              "#0d0887"
             ],
             [
              0.1111111111111111,
              "#46039f"
             ],
             [
              0.2222222222222222,
              "#7201a8"
             ],
             [
              0.3333333333333333,
              "#9c179e"
             ],
             [
              0.4444444444444444,
              "#bd3786"
             ],
             [
              0.5555555555555556,
              "#d8576b"
             ],
             [
              0.6666666666666666,
              "#ed7953"
             ],
             [
              0.7777777777777778,
              "#fb9f3a"
             ],
             [
              0.8888888888888888,
              "#fdca26"
             ],
             [
              1,
              "#f0f921"
             ]
            ],
            "type": "heatmap"
           }
          ],
          "heatmapgl": [
           {
            "colorbar": {
             "outlinewidth": 0,
             "ticks": ""
            },
            "colorscale": [
             [
              0,
              "#0d0887"
             ],
             [
              0.1111111111111111,
              "#46039f"
             ],
             [
              0.2222222222222222,
              "#7201a8"
             ],
             [
              0.3333333333333333,
              "#9c179e"
             ],
             [
              0.4444444444444444,
              "#bd3786"
             ],
             [
              0.5555555555555556,
              "#d8576b"
             ],
             [
              0.6666666666666666,
              "#ed7953"
             ],
             [
              0.7777777777777778,
              "#fb9f3a"
             ],
             [
              0.8888888888888888,
              "#fdca26"
             ],
             [
              1,
              "#f0f921"
             ]
            ],
            "type": "heatmapgl"
           }
          ],
          "histogram": [
           {
            "marker": {
             "pattern": {
              "fillmode": "overlay",
              "size": 10,
              "solidity": 0.2
             }
            },
            "type": "histogram"
           }
          ],
          "histogram2d": [
           {
            "colorbar": {
             "outlinewidth": 0,
             "ticks": ""
            },
            "colorscale": [
             [
              0,
              "#0d0887"
             ],
             [
              0.1111111111111111,
              "#46039f"
             ],
             [
              0.2222222222222222,
              "#7201a8"
             ],
             [
              0.3333333333333333,
              "#9c179e"
             ],
             [
              0.4444444444444444,
              "#bd3786"
             ],
             [
              0.5555555555555556,
              "#d8576b"
             ],
             [
              0.6666666666666666,
              "#ed7953"
             ],
             [
              0.7777777777777778,
              "#fb9f3a"
             ],
             [
              0.8888888888888888,
              "#fdca26"
             ],
             [
              1,
              "#f0f921"
             ]
            ],
            "type": "histogram2d"
           }
          ],
          "histogram2dcontour": [
           {
            "colorbar": {
             "outlinewidth": 0,
             "ticks": ""
            },
            "colorscale": [
             [
              0,
              "#0d0887"
             ],
             [
              0.1111111111111111,
              "#46039f"
             ],
             [
              0.2222222222222222,
              "#7201a8"
             ],
             [
              0.3333333333333333,
              "#9c179e"
             ],
             [
              0.4444444444444444,
              "#bd3786"
             ],
             [
              0.5555555555555556,
              "#d8576b"
             ],
             [
              0.6666666666666666,
              "#ed7953"
             ],
             [
              0.7777777777777778,
              "#fb9f3a"
             ],
             [
              0.8888888888888888,
              "#fdca26"
             ],
             [
              1,
              "#f0f921"
             ]
            ],
            "type": "histogram2dcontour"
           }
          ],
          "mesh3d": [
           {
            "colorbar": {
             "outlinewidth": 0,
             "ticks": ""
            },
            "type": "mesh3d"
           }
          ],
          "parcoords": [
           {
            "line": {
             "colorbar": {
              "outlinewidth": 0,
              "ticks": ""
             }
            },
            "type": "parcoords"
           }
          ],
          "pie": [
           {
            "automargin": true,
            "type": "pie"
           }
          ],
          "scatter": [
           {
            "fillpattern": {
             "fillmode": "overlay",
             "size": 10,
             "solidity": 0.2
            },
            "type": "scatter"
           }
          ],
          "scatter3d": [
           {
            "line": {
             "colorbar": {
              "outlinewidth": 0,
              "ticks": ""
             }
            },
            "marker": {
             "colorbar": {
              "outlinewidth": 0,
              "ticks": ""
             }
            },
            "type": "scatter3d"
           }
          ],
          "scattercarpet": [
           {
            "marker": {
             "colorbar": {
              "outlinewidth": 0,
              "ticks": ""
             }
            },
            "type": "scattercarpet"
           }
          ],
          "scattergeo": [
           {
            "marker": {
             "colorbar": {
              "outlinewidth": 0,
              "ticks": ""
             }
            },
            "type": "scattergeo"
           }
          ],
          "scattergl": [
           {
            "marker": {
             "colorbar": {
              "outlinewidth": 0,
              "ticks": ""
             }
            },
            "type": "scattergl"
           }
          ],
          "scattermapbox": [
           {
            "marker": {
             "colorbar": {
              "outlinewidth": 0,
              "ticks": ""
             }
            },
            "type": "scattermapbox"
           }
          ],
          "scatterpolar": [
           {
            "marker": {
             "colorbar": {
              "outlinewidth": 0,
              "ticks": ""
             }
            },
            "type": "scatterpolar"
           }
          ],
          "scatterpolargl": [
           {
            "marker": {
             "colorbar": {
              "outlinewidth": 0,
              "ticks": ""
             }
            },
            "type": "scatterpolargl"
           }
          ],
          "scatterternary": [
           {
            "marker": {
             "colorbar": {
              "outlinewidth": 0,
              "ticks": ""
             }
            },
            "type": "scatterternary"
           }
          ],
          "surface": [
           {
            "colorbar": {
             "outlinewidth": 0,
             "ticks": ""
            },
            "colorscale": [
             [
              0,
              "#0d0887"
             ],
             [
              0.1111111111111111,
              "#46039f"
             ],
             [
              0.2222222222222222,
              "#7201a8"
             ],
             [
              0.3333333333333333,
              "#9c179e"
             ],
             [
              0.4444444444444444,
              "#bd3786"
             ],
             [
              0.5555555555555556,
              "#d8576b"
             ],
             [
              0.6666666666666666,
              "#ed7953"
             ],
             [
              0.7777777777777778,
              "#fb9f3a"
             ],
             [
              0.8888888888888888,
              "#fdca26"
             ],
             [
              1,
              "#f0f921"
             ]
            ],
            "type": "surface"
           }
          ],
          "table": [
           {
            "cells": {
             "fill": {
              "color": "#EBF0F8"
             },
             "line": {
              "color": "white"
             }
            },
            "header": {
             "fill": {
              "color": "#C8D4E3"
             },
             "line": {
              "color": "white"
             }
            },
            "type": "table"
           }
          ]
         },
         "layout": {
          "annotationdefaults": {
           "arrowcolor": "#2a3f5f",
           "arrowhead": 0,
           "arrowwidth": 1
          },
          "autotypenumbers": "strict",
          "coloraxis": {
           "colorbar": {
            "outlinewidth": 0,
            "ticks": ""
           }
          },
          "colorscale": {
           "diverging": [
            [
             0,
             "#8e0152"
            ],
            [
             0.1,
             "#c51b7d"
            ],
            [
             0.2,
             "#de77ae"
            ],
            [
             0.3,
             "#f1b6da"
            ],
            [
             0.4,
             "#fde0ef"
            ],
            [
             0.5,
             "#f7f7f7"
            ],
            [
             0.6,
             "#e6f5d0"
            ],
            [
             0.7,
             "#b8e186"
            ],
            [
             0.8,
             "#7fbc41"
            ],
            [
             0.9,
             "#4d9221"
            ],
            [
             1,
             "#276419"
            ]
           ],
           "sequential": [
            [
             0,
             "#0d0887"
            ],
            [
             0.1111111111111111,
             "#46039f"
            ],
            [
             0.2222222222222222,
             "#7201a8"
            ],
            [
             0.3333333333333333,
             "#9c179e"
            ],
            [
             0.4444444444444444,
             "#bd3786"
            ],
            [
             0.5555555555555556,
             "#d8576b"
            ],
            [
             0.6666666666666666,
             "#ed7953"
            ],
            [
             0.7777777777777778,
             "#fb9f3a"
            ],
            [
             0.8888888888888888,
             "#fdca26"
            ],
            [
             1,
             "#f0f921"
            ]
           ],
           "sequentialminus": [
            [
             0,
             "#0d0887"
            ],
            [
             0.1111111111111111,
             "#46039f"
            ],
            [
             0.2222222222222222,
             "#7201a8"
            ],
            [
             0.3333333333333333,
             "#9c179e"
            ],
            [
             0.4444444444444444,
             "#bd3786"
            ],
            [
             0.5555555555555556,
             "#d8576b"
            ],
            [
             0.6666666666666666,
             "#ed7953"
            ],
            [
             0.7777777777777778,
             "#fb9f3a"
            ],
            [
             0.8888888888888888,
             "#fdca26"
            ],
            [
             1,
             "#f0f921"
            ]
           ]
          },
          "colorway": [
           "#636efa",
           "#EF553B",
           "#00cc96",
           "#ab63fa",
           "#FFA15A",
           "#19d3f3",
           "#FF6692",
           "#B6E880",
           "#FF97FF",
           "#FECB52"
          ],
          "font": {
           "color": "#2a3f5f"
          },
          "geo": {
           "bgcolor": "white",
           "lakecolor": "white",
           "landcolor": "#E5ECF6",
           "showlakes": true,
           "showland": true,
           "subunitcolor": "white"
          },
          "hoverlabel": {
           "align": "left"
          },
          "hovermode": "closest",
          "mapbox": {
           "style": "light"
          },
          "paper_bgcolor": "white",
          "plot_bgcolor": "#E5ECF6",
          "polar": {
           "angularaxis": {
            "gridcolor": "white",
            "linecolor": "white",
            "ticks": ""
           },
           "bgcolor": "#E5ECF6",
           "radialaxis": {
            "gridcolor": "white",
            "linecolor": "white",
            "ticks": ""
           }
          },
          "scene": {
           "xaxis": {
            "backgroundcolor": "#E5ECF6",
            "gridcolor": "white",
            "gridwidth": 2,
            "linecolor": "white",
            "showbackground": true,
            "ticks": "",
            "zerolinecolor": "white"
           },
           "yaxis": {
            "backgroundcolor": "#E5ECF6",
            "gridcolor": "white",
            "gridwidth": 2,
            "linecolor": "white",
            "showbackground": true,
            "ticks": "",
            "zerolinecolor": "white"
           },
           "zaxis": {
            "backgroundcolor": "#E5ECF6",
            "gridcolor": "white",
            "gridwidth": 2,
            "linecolor": "white",
            "showbackground": true,
            "ticks": "",
            "zerolinecolor": "white"
           }
          },
          "shapedefaults": {
           "line": {
            "color": "#2a3f5f"
           }
          },
          "ternary": {
           "aaxis": {
            "gridcolor": "white",
            "linecolor": "white",
            "ticks": ""
           },
           "baxis": {
            "gridcolor": "white",
            "linecolor": "white",
            "ticks": ""
           },
           "bgcolor": "#E5ECF6",
           "caxis": {
            "gridcolor": "white",
            "linecolor": "white",
            "ticks": ""
           }
          },
          "title": {
           "x": 0.05
          },
          "xaxis": {
           "automargin": true,
           "gridcolor": "white",
           "linecolor": "white",
           "ticks": "",
           "title": {
            "standoff": 15
           },
           "zerolinecolor": "white",
           "zerolinewidth": 2
          },
          "yaxis": {
           "automargin": true,
           "gridcolor": "white",
           "linecolor": "white",
           "ticks": "",
           "title": {
            "standoff": 15
           },
           "zerolinecolor": "white",
           "zerolinewidth": 2
          }
         }
        },
        "title": {
         "text": "Train Accidents Damage in States "
        }
       }
      }
     },
     "metadata": {},
     "output_type": "display_data"
    }
   ],
   "source": [
    "# Filter for the top 10 states by number of accidents\n",
    "train_df = train_df[train_df['STATE'].isin(train_df['STATE'].value_counts().index[:10])]\n",
    "\n",
    "# Create a radar chart\n",
    "fig = px.line_polar(train_df, r='ACCDMG', theta='STATE', line_close=True)\n",
    "\n",
    "# Set the title\n",
    "fig.update_layout(title='Train Accidents Damage in States ', font=dict(family='Arial'))\n",
    "\n",
    "# Show the chart\n",
    "fig.show()"
   ]
  },
  {
   "cell_type": "code",
   "execution_count": null,
   "metadata": {},
   "outputs": [],
   "source": []
  }
 ],
 "metadata": {
  "kernelspec": {
   "display_name": "anly503",
   "language": "python",
   "name": "python3"
  },
  "language_info": {
   "codemirror_mode": {
    "name": "ipython",
    "version": 3
   },
   "file_extension": ".py",
   "mimetype": "text/x-python",
   "name": "python",
   "nbconvert_exporter": "python",
   "pygments_lexer": "ipython3",
   "version": "3.10.8"
  },
  "orig_nbformat": 4
 },
 "nbformat": 4,
 "nbformat_minor": 2
}
