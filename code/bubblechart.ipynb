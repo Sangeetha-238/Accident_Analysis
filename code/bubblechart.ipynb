{
 "cells": [
  {
   "cell_type": "code",
   "execution_count": null,
   "metadata": {},
   "outputs": [],
   "source": [
    "import pandas as pd\n",
    "import plotly.graph_objects as go\n",
    "import plotly.express as px"
   ]
  },
  {
   "cell_type": "code",
   "execution_count": null,
   "metadata": {},
   "outputs": [],
   "source": [
    "train_df = pd.read_csv('./data/train_final.csv')\n",
    "air_df = pd.read_csv('./data/airplanes_final.csv')"
   ]
  },
  {
   "cell_type": "code",
   "execution_count": null,
   "metadata": {},
   "outputs": [],
   "source": [
    "#remove na values\n",
    "train_df = train_df.dropna()\n",
    "air_df = air_df.dropna()"
   ]
  },
  {
   "cell_type": "code",
   "execution_count": null,
   "metadata": {},
   "outputs": [],
   "source": [
    "train_df.columns"
   ]
  },
  {
   "cell_type": "code",
   "execution_count": null,
   "metadata": {},
   "outputs": [],
   "source": [
    "#extract month and year from date\n",
    "train_df['month'] = pd.DatetimeIndex(train_df['DATE']).month\n",
    "train_df['year'] = pd.DatetimeIndex(train_df['DATE']).year"
   ]
  },
  {
   "cell_type": "code",
   "execution_count": null,
   "metadata": {},
   "outputs": [],
   "source": [
    "train_df['WEATHER'].unique()"
   ]
  },
  {
   "cell_type": "code",
   "execution_count": null,
   "metadata": {},
   "outputs": [],
   "source": [
    "train_df.head()"
   ]
  },
  {
   "cell_type": "code",
   "execution_count": null,
   "metadata": {},
   "outputs": [],
   "source": [
    "import plotly.express as px\n",
    "\n",
    "fig = px.scatter(train_df, x=\"DATE\", y=\"TEMP\", size=\"ACCDMG\", color=\"WEATHER\", \n",
    "                 hover_name=\"DESCRIPTION\", size_max=80, \n",
    "                 color_discrete_sequence=(\"#2ECC71\",\"#F7DC6F\",\"#F0B27A\",\"#99A3A4\",\"#C39BD3\",\"#5D6D7E\"))\n",
    "\n",
    "fig.update_layout(title=\"Weather Conditions and Temperature effect on Accidents\",\n",
    "                  xaxis_title=\"Date\",\n",
    "                  yaxis_title=\"Temperature (°F)\")\n",
    "\n",
    "fig.show()"
   ]
  },
  {
   "cell_type": "code",
   "execution_count": null,
   "metadata": {},
   "outputs": [],
   "source": [
    "states = {\n",
    "    'AL': 'Alabama',\n",
    "    'AK': 'Alaska',\n",
    "    'AZ': 'Arizona',\n",
    "    'AR': 'Arkansas',\n",
    "    'CA': 'California',\n",
    "    'CO': 'Colorado',\n",
    "    'CT': 'Connecticut',\n",
    "    'DE': 'Delaware',\n",
    "    'FL': 'Florida',\n",
    "    'GA': 'Georgia',\n",
    "    'HI': 'Hawaii',\n",
    "    'ID': 'Idaho',\n",
    "    'IL': 'Illinois',\n",
    "    'IN': 'Indiana',\n",
    "    'IA': 'Iowa',\n",
    "    'KS': 'Kansas',\n",
    "    'KY': 'Kentucky',\n",
    "    'LA': 'Louisiana',\n",
    "    'ME': 'Maine',\n",
    "    'MD': 'Maryland',\n",
    "    'MA': 'Massachusetts',\n",
    "    'MI': 'Michigan',\n",
    "    'MN': 'Minnesota',\n",
    "    'MS': 'Mississippi',\n",
    "    'MO': 'Missouri',\n",
    "    'MT': 'Montana',\n",
    "    'NE': 'Nebraska',\n",
    "    'NV': 'Nevada',\n",
    "    'NH': 'New Hampshire',\n",
    "    'NJ': 'New Jersey',\n",
    "    'NM': 'New Mexico',\n",
    "    'NY': 'New York',\n",
    "    'NC': 'North Carolina',\n",
    "    'ND': 'North Dakota',\n",
    "    'OH': 'Ohio',\n",
    "    'OK': 'Oklahoma',\n",
    "    'OR': 'Oregon',\n",
    "    'PA': 'Pennsylvania',\n",
    "    'RI': 'Rhode Island',\n",
    "    'SC': 'South Carolina',\n",
    "    'SD': 'South Dakota',\n",
    "    'TN': 'Tennessee',\n",
    "    'TX': 'Texas',\n",
    "    'UT': 'Utah',\n",
    "    'VT': 'Vermont',\n",
    "    'VA': 'Virginia',\n",
    "    'WA': 'Washington',\n",
    "    'WV': 'West Virginia',\n",
    "    'WI': 'Wisconsin',\n",
    "    'WY': 'Wyoming'\n",
    "}\n",
    "\n",
    "train_df['STATE'] = train_df['STATE'].map(states)\n",
    "air_df['State'] = air_df['State'].map(states)"
   ]
  },
  {
   "cell_type": "code",
   "execution_count": null,
   "metadata": {},
   "outputs": [],
   "source": [
    "# Filter for the top 10 states by number of accidents\n",
    "train_df = train_df[train_df['STATE'].isin(train_df['STATE'].value_counts().index[:10])]\n",
    "\n",
    "# Create a radar chart\n",
    "fig = px.line_polar(train_df, r='ACCDMG', theta='STATE', line_close=True)\n",
    "\n",
    "# Set the title\n",
    "fig.update_layout(title='Train Accidents Damage in States ', font=dict(family='Arial'))\n",
    "\n",
    "# Resize the chart to 400x400\n",
    "fig.update_layout(width=400, height=400)\n",
    "\n",
    "# Save the chart\n",
    "fig.write_image(\"../img/Word_cloud/train_accidents_damage_200x200.png\")\n",
    "\n",
    "# Show the chart\n",
    "fig.show()\n"
   ]
  },
  {
   "cell_type": "code",
   "execution_count": null,
   "metadata": {},
   "outputs": [],
   "source": [
    "# Filter for the top 10 states by number of accidents\n",
    "air_df = air_df[air_df['State'].isin(air_df['State'].value_counts().index[:10])]\n",
    "\n",
    "# Create a radar chart\n",
    "fig = px.line_polar(air_df, r='Fatalities', theta='State', line_close=True)\n",
    "\n",
    "# Set the title\n",
    "fig.update_layout(title='Aircrash Damage in States ', font=dict(family='Arial'))\n",
    "\n",
    "# Resize the chart to 400x400\n",
    "fig.update_layout(width=400, height=400)\n",
    "\n",
    "#save the chart\n",
    "fig.write_image(\"../img/Word_cloud/aircrash_damage.png\")\n",
    "\n",
    "# Show the chart\n",
    "fig.show()"
   ]
  },
  {
   "cell_type": "code",
   "execution_count": null,
   "metadata": {},
   "outputs": [],
   "source": [
    "from PIL import Image\n",
    "\n",
    "# Open the two images\n",
    "wordcloud_img = Image.open('../img/Word_cloud/wordcloud_air.png')\n",
    "radar_img = Image.open('../img/Word_cloud/aircrash_damage.png')\n",
    "\n",
    "# Resize the images to the same height\n",
    "width_wc, height_wc = wordcloud_img.size\n",
    "width_rg, height_rg = radar_img.size\n",
    "new_height = min(height_wc, height_rg)\n",
    "wordcloud_img = wordcloud_img.resize((int(width_wc * new_height / height_wc), new_height))\n",
    "radar_img = radar_img.resize((int(width_rg * new_height / height_rg), new_height))\n",
    "\n",
    "# Combine the images horizontally\n",
    "combined_img = Image.new('RGB', (wordcloud_img.width + radar_img.width, new_height))\n",
    "combined_img.paste(wordcloud_img, (0, 0))\n",
    "combined_img.paste(radar_img, (wordcloud_img.width, 0))\n",
    "\n",
    "# Save the combined image\n",
    "combined_img.save('../img/combined_air.png')\n"
   ]
  },
  {
   "cell_type": "code",
   "execution_count": null,
   "metadata": {},
   "outputs": [],
   "source": [
    "# Open the two images\n",
    "wordcloud_img_train = Image.open('../img/Word_cloud/wordcloud_train.png')\n",
    "radar_img_train = Image.open('../img/Word_cloud/train_accidents_damage.png')\n",
    "\n",
    "# Resize the images to the same height\n",
    "width_wc, height_wc = wordcloud_img_train.size\n",
    "width_rg, height_rg = radar_img_train.size\n",
    "new_height = min(height_wc, height_rg)\n",
    "wordcloud_img_train = wordcloud_img_train.resize((int(width_wc * new_height / height_wc), new_height))\n",
    "radar_img_train = radar_img_train.resize((int(width_rg * new_height / height_rg), new_height))\n",
    "\n",
    "# Combine the images horizontally\n",
    "combined_img = Image.new('RGB', (wordcloud_img_train.width + radar_img_train.width, new_height))\n",
    "combined_img.paste(wordcloud_img_train, (0, 0))\n",
    "combined_img.paste(radar_img_train, (wordcloud_img_train.width, 0))\n",
    "\n",
    "# Save the combined image\n",
    "combined_img.save('../img/combined_train.png')"
   ]
  },
  {
   "cell_type": "code",
   "execution_count": null,
   "metadata": {},
   "outputs": [],
   "source": [
    "from PIL import Image\n",
    "\n",
    "# Open the two images\n",
    "wordcloud_img = Image.open('../img/Word_cloud/wordcloud_air.png')\n",
    "radar_img = Image.open('../img/Word_cloud/aircrash_damage.png')\n",
    "\n",
    "# Resize the images to the same height\n",
    "width_wc, height_wc = wordcloud_img.size\n",
    "width_rg, height_rg = radar_img.size\n",
    "new_height = min(height_wc, height_rg)\n",
    "wordcloud_img = wordcloud_img.resize((int(width_wc * new_height / height_wc), new_height))\n",
    "radar_img = radar_img.resize((int(width_rg * new_height / height_rg), new_height))\n",
    "\n",
    "# Combine the images horizontally\n",
    "combined_img = Image.new('RGB', (wordcloud_img.width + radar_img.width, new_height))\n",
    "combined_img.paste(wordcloud_img, (0, 0))\n",
    "combined_img.paste(radar_img, (wordcloud_img.width, 0))\n",
    "\n",
    "# Resize the combined image into a square of size 400x400\n",
    "new_size = (800, 400)\n",
    "new_image = combined_img.resize(new_size)\n",
    "\n",
    "# Save the resized image\n",
    "new_image.save('../img/combined_air_400x400.png')\n"
   ]
  }
 ],
 "metadata": {
  "kernelspec": {
   "display_name": "anly503",
   "language": "python",
   "name": "python3"
  },
  "language_info": {
   "codemirror_mode": {
    "name": "ipython",
    "version": 3
   },
   "file_extension": ".py",
   "mimetype": "text/x-python",
   "name": "python",
   "nbconvert_exporter": "python",
   "pygments_lexer": "ipython3",
   "version": "3.10.8"
  },
  "orig_nbformat": 4
 },
 "nbformat": 4,
 "nbformat_minor": 2
}
