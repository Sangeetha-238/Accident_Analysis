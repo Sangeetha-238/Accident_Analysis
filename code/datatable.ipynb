{
 "cells": [
  {
   "attachments": {},
   "cell_type": "markdown",
   "metadata": {},
   "source": [
    "# Imports"
   ]
  },
  {
   "cell_type": "code",
   "execution_count": 1,
   "metadata": {},
   "outputs": [],
   "source": [
    "import plotly.graph_objects as go\n",
    "import plotly.io as pio\n",
    "import pandas as pd\n",
    "import os\n",
    "\n",
    "pio.renderers.default = \"plotly_mimetype+notebook_connected\"\n",
    "pio.templates.default = \"none\""
   ]
  },
  {
   "attachments": {},
   "cell_type": "markdown",
   "metadata": {},
   "source": [
    "# Data Transformation"
   ]
  },
  {
   "cell_type": "code",
   "execution_count": 2,
   "metadata": {},
   "outputs": [],
   "source": [
    "te = pd.read_csv('./data/train_final.csv')\n",
    "ap = pd.read_csv('./data/airplanes_final.csv')"
   ]
  },
  {
   "cell_type": "code",
   "execution_count": 4,
   "metadata": {},
   "outputs": [],
   "source": [
    "te = te.drop(te.columns[[3, 4, 5, 6] + list(range(19, 36))], axis=1) # removing uninformative / unused columns\n",
    "te = te.rename(columns={'CASKLDRR': 'DEATHS', 'CASINJRR': 'INJURIES', 'CARSDMG': 'DAMAGED CARS COUNT', # rename\n",
    "                        'CARSHZD': 'HAZMAT CARS COUNT', 'TEMP': 'TEMP (F)', 'VISIBLTY': 'VISIBILITY', \n",
    "                        'TRNSPD': 'SPEED', 'TYPEQ': 'EQUIPMENT TYPE', 'TYPTRK': 'TRACK TYPE', \n",
    "                        'ACCDMG': 'TOTAL DAMAGES ($)'})\n",
    "te = te[['DATE', 'STATE', 'DEATHS', 'INJURIES', 'TYPE'] + list(te.columns[5:])] # reorder\n",
    "te = te[:1000] # subset first 1000 rows"
   ]
  },
  {
   "cell_type": "code",
   "execution_count": 5,
   "metadata": {},
   "outputs": [],
   "source": [
    "ap = ap.drop(columns=['Location', 'Type', 'Aboard', 'Summary']) # removing uninformative / unused columns\n",
    "ap = ap.rename(columns={'Date': 'DATE', 'Operator': 'OPERATOR', 'Fatalities': 'ONBOARD DEATHS', # rename\n",
    "                        'Ground': 'GROUND DEATHS', 'City': 'CITY', 'State': 'STATE'})\n",
    "ap = ap[['DATE', 'CITY', 'STATE', 'ONBOARD DEATHS', 'GROUND DEATHS', 'OPERATOR']] # reorder\n",
    "ap = ap[:1000]"
   ]
  },
  {
   "attachments": {},
   "cell_type": "markdown",
   "metadata": {},
   "source": [
    "# Data Tables"
   ]
  },
  {
   "attachments": {},
   "cell_type": "markdown",
   "metadata": {},
   "source": [
    "## Helper Functions"
   ]
  },
  {
   "cell_type": "code",
   "execution_count": 46,
   "metadata": {},
   "outputs": [],
   "source": [
    "def create_dt(df, color1, color2):\n",
    "    fig = go.Figure(\n",
    "        data=[go.Table(\n",
    "            header=dict(values=list(df.columns),\n",
    "                        fill_color=color1,\n",
    "                        font=dict(color='black'),\n",
    "                        align='center'),\n",
    "            cells=dict(values=[df[col] for col in df.columns],\n",
    "                    fill_color=color2,\n",
    "                    font=dict(color='black'),\n",
    "                    align='left'))\n",
    "    ])\n",
    "\n",
    "    #fig.show()\n",
    "    return fig\n",
    "\n",
    "def export_dt(dt, name):\n",
    "    output_dir = './img/datatable/'\n",
    "    if not os.path.exists(output_dir):\n",
    "        os.makedirs(output_dir)\n",
    "    output_file = f\"{name}.html\"\n",
    "    \n",
    "    pio.write_html(dt, file=output_dir + output_file, auto_open=False)"
   ]
  },
  {
   "attachments": {},
   "cell_type": "markdown",
   "metadata": {},
   "source": [
    "## Trains"
   ]
  },
  {
   "cell_type": "code",
   "execution_count": 47,
   "metadata": {},
   "outputs": [],
   "source": [
    "train_dt = create_dt(te, 'darkgreen', 'lightgreen')\n",
    "export_dt(train_dt, \"train_dt\")"
   ]
  },
  {
   "attachments": {},
   "cell_type": "markdown",
   "metadata": {},
   "source": [
    "## Airplanes"
   ]
  },
  {
   "cell_type": "code",
   "execution_count": 48,
   "metadata": {},
   "outputs": [],
   "source": [
    "planes_dt = create_dt(ap, 'cadetblue', 'cyan')\n",
    "export_dt(planes_dt, \"planes_dt\")"
   ]
  }
 ],
 "metadata": {
  "kernelspec": {
   "display_name": "anly503",
   "language": "python",
   "name": "python3"
  },
  "language_info": {
   "codemirror_mode": {
    "name": "ipython",
    "version": 3
   },
   "file_extension": ".py",
   "mimetype": "text/x-python",
   "name": "python",
   "nbconvert_exporter": "python",
   "pygments_lexer": "ipython3",
   "version": "3.10.8"
  },
  "orig_nbformat": 4
 },
 "nbformat": 4,
 "nbformat_minor": 2
}
